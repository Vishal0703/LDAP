{
 "cells": [
  {
   "cell_type": "code",
   "execution_count": 590,
   "metadata": {},
   "outputs": [],
   "source": [
    "import rpyc\n",
    "import time\n",
    "from rpyc.utils.server import ThreadedServer\n"
   ]
  },
  {
   "cell_type": "code",
   "execution_count": 852,
   "metadata": {},
   "outputs": [],
   "source": [
    "conn = rpyc.connect(\"localhost\", 18852)\n",
    "# bgsrv = rpyc.BgServingThread(conn)\n"
   ]
  },
  {
   "cell_type": "code",
   "execution_count": 853,
   "metadata": {},
   "outputs": [],
   "source": [
    "bgsrv = rpyc.BgServingThread(conn)"
   ]
  },
  {
   "cell_type": "code",
   "execution_count": 854,
   "metadata": {},
   "outputs": [],
   "source": [
    "ds = rpyc.async_(conn.root.do_a_search)\n",
    "\n",
    "counter = 0"
   ]
  },
  {
   "cell_type": "code",
   "execution_count": 855,
   "metadata": {},
   "outputs": [],
   "source": [
    "def printval(pkt_id, value, ID, ack_func, fin = False):\n",
    "    global counter\n",
    "    print(pkt_id)\n",
    "    print(\"value appended is \")\n",
    "    print(value)\n",
    "    ack_func(pkt_id)"
   ]
  },
  {
   "cell_type": "code",
   "execution_count": 856,
   "metadata": {},
   "outputs": [],
   "source": [
    "obj = ds(printval)"
   ]
  },
  {
   "cell_type": "code",
   "execution_count": 857,
   "metadata": {},
   "outputs": [
    {
     "name": "stdout",
     "output_type": "stream",
     "text": [
      "1\n",
      "value appended is \n",
      "[200, 201, 202, 203, 204]\n",
      "2\n",
      "value appended is \n",
      "[205, 206, 207, 208, 209]\n",
      "3\n",
      "value appended is \n",
      "[1000, 1001, 1002, 1003, 0]\n",
      "4\n",
      "value appended is \n",
      "[1, 2, 3, 4, 5]\n",
      "5\n",
      "value appended is \n",
      "[6, 210, 211, 212, 213]\n",
      "6\n",
      "value appended is \n",
      "[214, 215, 216, 217, 218]\n",
      "7\n",
      "value appended is \n",
      "[219, 1010, 1011, 1012, 1013]\n",
      "8\n",
      "value appended is \n",
      "[10, 11, 12, 13, 14]\n",
      "9\n",
      "value appended is \n",
      "[15, 16, 220, 221, 222]\n",
      "10\n",
      "value appended is \n",
      "[223, 224, 225, 226, 227]\n",
      "11\n",
      "value appended is \n",
      "[228, 229, 1020, 1021, 1022]\n",
      "12\n",
      "value appended is \n",
      "[1023, 20, 21, 22, 23]\n",
      "13\n",
      "value appended is \n",
      "[24, 25, 26, 230, 231]\n",
      "14\n",
      "value appended is \n",
      "[232, 233, 234, 235, 236]\n",
      "15\n",
      "value appended is \n",
      "[237, 238, 239, 1030, 1031]\n",
      "16\n",
      "value appended is \n",
      "[1032, 1033, 30, 31, 32]\n",
      "17\n",
      "value appended is \n",
      "[33, 34, 35, 36, 240]\n",
      "18\n",
      "value appended is \n",
      "[241, 242, 243, 244, 245]\n",
      "19\n",
      "value appended is \n",
      "[246, 247, 248, 249, 1040]\n",
      "20\n",
      "value appended is \n",
      "[1041, 1042, 1043, 40, 41]\n",
      "21\n",
      "value appended is \n",
      "[42, 43, 44, 45, 46]\n",
      "22\n",
      "value appended is \n",
      "[250, 251, 252, 253, 254]\n",
      "23\n",
      "value appended is \n",
      "[255, 256, 257, 258, 259]\n",
      "24\n",
      "value appended is \n",
      "[1050, 1051, 1052, 1053, 50]\n",
      "25\n",
      "value appended is \n",
      "[51, 52, 53, 54, 55]\n",
      "26\n",
      "value appended is \n",
      "[56, 260, 261, 262, 263]\n",
      "27\n",
      "value appended is \n",
      "[264, 265, 266, 267, 268]\n",
      "28\n",
      "value appended is \n",
      "[269, 1060, 1061, 1062, 1063]\n",
      "29\n",
      "value appended is \n",
      "[60, 61, 62, 63, 64]\n",
      "30\n",
      "value appended is \n",
      "[65, 66, 270, 271, 272]\n",
      "31\n",
      "value appended is \n",
      "[273, 274, 275, 276, 277]\n",
      "32\n",
      "value appended is \n",
      "[278, 279, 1070, 1071, 1072]\n",
      "33\n",
      "value appended is \n",
      "[1073, 70, 71, 72, 73]\n",
      "34\n",
      "value appended is \n",
      "[74, 75, 76, 280, 281]\n",
      "35\n",
      "value appended is \n",
      "[282, 283, 284, 285, 286]\n",
      "36\n",
      "value appended is \n",
      "[287, 288, 289, 1080, 1081]\n",
      "37\n",
      "value appended is \n",
      "[1082, 1083, 80, 81, 82]\n",
      "38\n",
      "value appended is \n",
      "[83, 84, 85, 86, 290]\n",
      "39\n",
      "value appended is \n",
      "[291, 292, 293, 294, 295]\n",
      "40\n",
      "value appended is \n",
      "[296, 297, 298, 299, 1090]\n",
      "41\n",
      "value appended is \n",
      "[1091, 1092, 1093]\n"
     ]
    }
   ],
   "source": [
    "obj.value"
   ]
  },
  {
   "cell_type": "code",
   "execution_count": 773,
   "metadata": {},
   "outputs": [
    {
     "data": {
      "text/plain": [
       "True"
      ]
     },
     "execution_count": 773,
     "metadata": {},
     "output_type": "execute_result"
    }
   ],
   "source": [
    "obj.ready"
   ]
  },
  {
   "cell_type": "code",
   "execution_count": 774,
   "metadata": {},
   "outputs": [],
   "source": [
    "bgsrv.stop()\n",
    "conn.close()"
   ]
  },
  {
   "cell_type": "code",
   "execution_count": 428,
   "metadata": {},
   "outputs": [],
   "source": [
    "# conn.root.printvals()"
   ]
  },
  {
   "cell_type": "code",
   "execution_count": 783,
   "metadata": {},
   "outputs": [],
   "source": [
    "l = [1,2,3,4,5,6]\n"
   ]
  },
  {
   "cell_type": "code",
   "execution_count": 784,
   "metadata": {},
   "outputs": [],
   "source": [
    "l.clear()"
   ]
  },
  {
   "cell_type": "code",
   "execution_count": 785,
   "metadata": {},
   "outputs": [
    {
     "data": {
      "text/plain": [
       "[]"
      ]
     },
     "execution_count": 785,
     "metadata": {},
     "output_type": "execute_result"
    }
   ],
   "source": [
    "l"
   ]
  },
  {
   "cell_type": "code",
   "execution_count": 786,
   "metadata": {},
   "outputs": [],
   "source": [
    "from collections import deque"
   ]
  },
  {
   "cell_type": "code",
   "execution_count": 789,
   "metadata": {},
   "outputs": [],
   "source": [
    "a = deque(maxlen = 10)"
   ]
  },
  {
   "cell_type": "code",
   "execution_count": 818,
   "metadata": {},
   "outputs": [],
   "source": [
    "a.extend([1,2,3,4])"
   ]
  },
  {
   "cell_type": "code",
   "execution_count": 820,
   "metadata": {},
   "outputs": [
    {
     "data": {
      "text/plain": [
       "1"
      ]
     },
     "execution_count": 820,
     "metadata": {},
     "output_type": "execute_result"
    }
   ],
   "source": [
    "a.popleft()"
   ]
  },
  {
   "cell_type": "code",
   "execution_count": 821,
   "metadata": {},
   "outputs": [
    {
     "data": {
      "text/plain": [
       "deque([2, 3, 4, 1, 2, 3, 4])"
      ]
     },
     "execution_count": 821,
     "metadata": {},
     "output_type": "execute_result"
    }
   ],
   "source": [
    "a"
   ]
  },
  {
   "cell_type": "code",
   "execution_count": null,
   "metadata": {},
   "outputs": [],
   "source": []
  }
 ],
 "metadata": {
  "kernelspec": {
   "display_name": "py3.5.2",
   "language": "python",
   "name": "python3.5.2"
  },
  "language_info": {
   "codemirror_mode": {
    "name": "ipython",
    "version": 3
   },
   "file_extension": ".py",
   "mimetype": "text/x-python",
   "name": "python",
   "nbconvert_exporter": "python",
   "pygments_lexer": "ipython3",
   "version": "3.5.2"
  }
 },
 "nbformat": 4,
 "nbformat_minor": 2
}
