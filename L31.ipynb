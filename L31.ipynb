{
 "cells": [
  {
   "cell_type": "code",
   "execution_count": 590,
   "metadata": {},
   "outputs": [],
   "source": [
    "import rpyc\n",
    "import time\n",
    "from rpyc.utils.server import ThreadedServer\n"
   ]
  },
  {
   "cell_type": "code",
   "execution_count": 767,
   "metadata": {},
   "outputs": [],
   "source": [
    "conn = rpyc.connect(\"localhost\", 18852)\n",
    "# bgsrv = rpyc.BgServingThread(conn)\n"
   ]
  },
  {
   "cell_type": "code",
   "execution_count": 768,
   "metadata": {},
   "outputs": [],
   "source": [
    "bgsrv = rpyc.BgServingThread(conn)"
   ]
  },
  {
   "cell_type": "code",
   "execution_count": 769,
   "metadata": {},
   "outputs": [],
   "source": [
    "ds = rpyc.async_(conn.root.do_a_search)\n",
    "\n",
    "counter = 0"
   ]
  },
  {
   "cell_type": "code",
   "execution_count": 770,
   "metadata": {},
   "outputs": [],
   "source": [
    "def printval(pkt_id, value, ID, ack_func, fin = False):\n",
    "    global counter\n",
    "    print(pkt_id)\n",
    "    print(\"value appended is \")\n",
    "    print(value)\n",
    "    ack_func(pkt_id)"
   ]
  },
  {
   "cell_type": "code",
   "execution_count": 771,
   "metadata": {},
   "outputs": [],
   "source": [
    "obj = ds(printval)"
   ]
  },
  {
   "cell_type": "code",
   "execution_count": 772,
   "metadata": {},
   "outputs": [
    {
     "name": "stdout",
     "output_type": "stream",
     "text": [
      "1\n",
      "value appended is \n",
      "[200, 201, 202, 203, 204]\n",
      "2\n",
      "value appended is \n",
      "[205, 206, 207, 208, 209]\n",
      "3\n",
      "value appended is \n",
      "[1000, 1001, 1002, 1003, 1004]\n",
      "4\n",
      "value appended is \n",
      "[1005, 1006, 1007, 1008, 1009]\n",
      "5\n",
      "value appended is \n",
      "[0, 1, 2, 3, 4]\n",
      "6\n",
      "value appended is \n",
      "[5, 6, 7, 8, 9]\n",
      "7\n",
      "value appended is \n",
      "[210, 211, 212, 213, 214]\n",
      "8\n",
      "value appended is \n",
      "[215, 216, 217, 218, 219]\n",
      "9\n",
      "value appended is \n",
      "[1010, 1011, 1012, 1013, 1014]\n",
      "10\n",
      "value appended is \n",
      "[1015, 1016, 1017, 1018, 1019]\n",
      "11\n",
      "value appended is \n",
      "[10, 11, 12, 13, 14]\n",
      "12\n",
      "value appended is \n",
      "[15, 16, 17, 18, 19]\n",
      "13\n",
      "value appended is \n",
      "[220, 221, 222, 223, 224]\n",
      "14\n",
      "value appended is \n",
      "[225, 226, 227, 228, 229]\n",
      "15\n",
      "value appended is \n",
      "[1020, 1021, 1022, 1023, 1024]\n",
      "16\n",
      "value appended is \n",
      "[1025, 1026, 1027, 1028, 1029]\n",
      "17\n",
      "value appended is \n",
      "[20, 21, 22, 23, 24]\n",
      "18\n",
      "value appended is \n",
      "[25, 26, 27, 28, 29]\n",
      "19\n",
      "value appended is \n",
      "[230, 231, 232, 233, 234]\n",
      "20\n",
      "value appended is \n",
      "[235, 236, 237, 238, 239]\n",
      "21\n",
      "value appended is \n",
      "[1030, 1031, 1032, 1033, 1034]\n",
      "22\n",
      "value appended is \n",
      "[1035, 1036, 1037, 1038, 1039]\n",
      "23\n",
      "value appended is \n",
      "[30, 31, 32, 33, 34]\n",
      "24\n",
      "value appended is \n",
      "[35, 36, 37, 38, 39]\n",
      "25\n",
      "value appended is \n",
      "[240, 241, 242, 243, 244]\n",
      "26\n",
      "value appended is \n",
      "[245, 246, 247, 248, 249]\n",
      "27\n",
      "value appended is \n",
      "[1040, 1041, 1042, 1043, 1044]\n",
      "28\n",
      "value appended is \n",
      "[1045, 1046, 1047, 1048, 1049]\n",
      "29\n",
      "value appended is \n",
      "[40, 41, 42, 43, 44]\n",
      "30\n",
      "value appended is \n",
      "[45, 46, 47, 48, 49]\n",
      "31\n",
      "value appended is \n",
      "[250, 251, 252, 253, 254]\n",
      "32\n",
      "value appended is \n",
      "[255, 256, 257, 258, 259]\n",
      "33\n",
      "value appended is \n",
      "[1050, 1051, 1052, 1053, 1054]\n",
      "34\n",
      "value appended is \n",
      "[1055, 1056, 1057, 1058, 1059]\n",
      "35\n",
      "value appended is \n",
      "[50, 51, 52, 53, 54]\n",
      "36\n",
      "value appended is \n",
      "[55, 56, 57, 58, 59]\n",
      "37\n",
      "value appended is \n",
      "[260, 261, 262, 263, 264]\n",
      "38\n",
      "value appended is \n",
      "[265, 266, 267, 268, 269]\n",
      "39\n",
      "value appended is \n",
      "[1060, 1061, 1062, 1063, 1064]\n",
      "40\n",
      "value appended is \n",
      "[1065, 1066, 1067, 1068, 1069]\n",
      "41\n",
      "value appended is \n",
      "[60, 61, 62, 63, 64]\n",
      "42\n",
      "value appended is \n",
      "[65, 66, 67, 68, 69]\n",
      "43\n",
      "value appended is \n",
      "[270, 271, 272, 273, 274]\n",
      "44\n",
      "value appended is \n",
      "[275, 276, 277, 278, 279]\n",
      "45\n",
      "value appended is \n",
      "[1070, 1071, 1072, 1073, 1074]\n",
      "46\n",
      "value appended is \n",
      "[1075, 1076, 1077, 1078, 1079]\n",
      "47\n",
      "value appended is \n",
      "[70, 71, 72, 73, 74]\n",
      "48\n",
      "value appended is \n",
      "[75, 76, 77, 78, 79]\n",
      "49\n",
      "value appended is \n",
      "[280, 281, 282, 283, 284]\n",
      "50\n",
      "value appended is \n",
      "[285, 286, 287, 288, 289]\n",
      "51\n",
      "value appended is \n",
      "[1080, 1081, 1082, 1083, 1084]\n",
      "52\n",
      "value appended is \n",
      "[1085, 1086, 1087, 1088, 1089]\n",
      "53\n",
      "value appended is \n",
      "[80, 81, 82, 83, 84]\n",
      "54\n",
      "value appended is \n",
      "[85, 86, 87, 88, 89]\n",
      "55\n",
      "value appended is \n",
      "[290, 291, 292, 293, 294]\n",
      "56\n",
      "value appended is \n",
      "[295, 296, 297, 298, 299]\n",
      "57\n",
      "value appended is \n",
      "[1090, 1091, 1092, 1093, 1094]\n",
      "58\n",
      "value appended is \n",
      "[1095, 1096, 1097, 1098, 1099]\n",
      "59\n",
      "value appended is \n",
      "[90, 91, 92, 93, 94]\n",
      "60\n",
      "value appended is \n",
      "[95, 96, 97, 98, 99]\n"
     ]
    }
   ],
   "source": [
    "obj.value"
   ]
  },
  {
   "cell_type": "code",
   "execution_count": 773,
   "metadata": {},
   "outputs": [
    {
     "data": {
      "text/plain": [
       "True"
      ]
     },
     "execution_count": 773,
     "metadata": {},
     "output_type": "execute_result"
    }
   ],
   "source": [
    "obj.ready"
   ]
  },
  {
   "cell_type": "code",
   "execution_count": 774,
   "metadata": {},
   "outputs": [],
   "source": [
    "bgsrv.stop()\n",
    "conn.close()"
   ]
  },
  {
   "cell_type": "code",
   "execution_count": 428,
   "metadata": {},
   "outputs": [],
   "source": [
    "# conn.root.printvals()"
   ]
  },
  {
   "cell_type": "code",
   "execution_count": 783,
   "metadata": {},
   "outputs": [],
   "source": [
    "l = [1,2,3,4,5,6]\n"
   ]
  },
  {
   "cell_type": "code",
   "execution_count": 784,
   "metadata": {},
   "outputs": [],
   "source": [
    "l.clear()"
   ]
  },
  {
   "cell_type": "code",
   "execution_count": 785,
   "metadata": {},
   "outputs": [
    {
     "data": {
      "text/plain": [
       "[]"
      ]
     },
     "execution_count": 785,
     "metadata": {},
     "output_type": "execute_result"
    }
   ],
   "source": [
    "l"
   ]
  },
  {
   "cell_type": "code",
   "execution_count": 786,
   "metadata": {},
   "outputs": [],
   "source": [
    "from collections import deque"
   ]
  },
  {
   "cell_type": "code",
   "execution_count": 789,
   "metadata": {},
   "outputs": [],
   "source": [
    "a = deque(maxlen = 10)"
   ]
  },
  {
   "cell_type": "code",
   "execution_count": 790,
   "metadata": {},
   "outputs": [],
   "source": [
    "a.extend([1,2,3,4])"
   ]
  },
  {
   "cell_type": "code",
   "execution_count": 817,
   "metadata": {},
   "outputs": [
    {
     "ename": "TypeError",
     "evalue": "sequence index must be integer, not 'slice'",
     "output_type": "error",
     "traceback": [
      "\u001b[0;31m---------------------------------------------------------------------------\u001b[0m",
      "\u001b[0;31mTypeError\u001b[0m                                 Traceback (most recent call last)",
      "\u001b[0;32m<ipython-input-817-b088d29a09f5>\u001b[0m in \u001b[0;36m<module>\u001b[0;34m\u001b[0m\n\u001b[0;32m----> 1\u001b[0;31m \u001b[0ma\u001b[0m\u001b[0;34m[\u001b[0m\u001b[0;36m0\u001b[0m\u001b[0;34m:\u001b[0m\u001b[0;36m2\u001b[0m\u001b[0;34m]\u001b[0m\u001b[0;34m\u001b[0m\u001b[0m\n\u001b[0m",
      "\u001b[0;31mTypeError\u001b[0m: sequence index must be integer, not 'slice'"
     ]
    }
   ],
   "source": [
    "a[0:2]"
   ]
  },
  {
   "cell_type": "code",
   "execution_count": null,
   "metadata": {},
   "outputs": [],
   "source": []
  }
 ],
 "metadata": {
  "kernelspec": {
   "display_name": "py3.5.2",
   "language": "python",
   "name": "python3.5.2"
  },
  "language_info": {
   "codemirror_mode": {
    "name": "ipython",
    "version": 3
   },
   "file_extension": ".py",
   "mimetype": "text/x-python",
   "name": "python",
   "nbconvert_exporter": "python",
   "pygments_lexer": "ipython3",
   "version": "3.5.2"
  }
 },
 "nbformat": 4,
 "nbformat_minor": 2
}
