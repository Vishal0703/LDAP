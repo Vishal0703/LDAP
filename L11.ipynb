{
 "cells": [
  {
   "cell_type": "code",
   "execution_count": 62,
   "metadata": {},
   "outputs": [],
   "source": [
    "import rpyc\n",
    "import time\n",
    "from rpyc.utils.server import ThreadedServer\n",
    "from rpyc import async_\n",
    "\n",
    "class Myservice(rpyc.Service):\n",
    "    def __init__(self):\n",
    "        self.id = 11\n",
    "        self.func = None\n",
    "        self.shadow = shadow\n",
    "        \n",
    "    def on_connect(self, conn):\n",
    "        print(\"Connection established with \"+ str(conn))\n",
    "        \n",
    "    def on_disconnect(self,conn):\n",
    "        print(\"Have a nice day... goodbye\")\n",
    "        \n",
    "    def ack_func(self, ID):\n",
    "        print(\"Ack recieved for packet id {}\".format(ID))\n",
    "        \n",
    "    def exposed_do_a_search(self, func):\n",
    "        self.func = func\n",
    "        try:\n",
    "            for j in range(10):\n",
    "                l = []\n",
    "                for i in range(1000 + 10*j,1000 + 10*j + 10):\n",
    "                    l.append(i)\n",
    "\n",
    "\n",
    "                time.sleep(1)\n",
    "                print(\"done \" + str(j))\n",
    "                self.func(j, l, self.id, self.ack_func)\n",
    "                print(\"sent \" + str(j))\n",
    "\n",
    "            self.func(None, None, self.id, None, True)\n",
    "        except Exception as e:\n",
    "            print(e)\n",
    "        \n",
    "#         l = []\n",
    "#         for i in range(10):\n",
    "#             l.append(i)\n",
    "            \n",
    "#         time.sleep(2)\n",
    "#         print(\"done 1\")\n",
    "#         func(l, self.id)\n",
    "#         print(\"sent 1\")\n",
    "        \n",
    "#         time.sleep(3)\n",
    "#         l = []\n",
    "#         for i in range(100,110):\n",
    "#             l.append(i)\n",
    "            \n",
    "#         print(\"done 2\")\n",
    "#         func(l, self.id)\n",
    "#         print(\"sent 2\")\n",
    "        return "
   ]
  },
  {
   "cell_type": "code",
   "execution_count": 63,
   "metadata": {},
   "outputs": [],
   "source": [
    "shadow = [\"localhost\", 17750]"
   ]
  },
  {
   "cell_type": "code",
   "execution_count": null,
   "metadata": {},
   "outputs": [
    {
     "name": "stdout",
     "output_type": "stream",
     "text": [
      "Connection established with <rpyc.core.protocol.Connection 'conn93' object at 0x7f564c2234e0>\n",
      "Connection established with <rpyc.core.protocol.Connection 'conn94' object at 0x7f564c223d30>\n",
      "done 0\n",
      "Ack recieved for packet id 0\n",
      "sent 0\n",
      "done 1\n",
      "Ack recieved for packet id 1\n",
      "sent 1\n",
      "done 2\n",
      "Ack recieved for packet id 2\n",
      "sent 2\n",
      "done 3\n",
      "Ack recieved for packet id 3\n",
      "sent 3\n",
      "done 4\n",
      "Ack recieved for packet id 4\n",
      "sent 4\n",
      "done 5\n",
      "Ack recieved for packet id 5\n",
      "sent 5\n",
      "done 6\n",
      "Ack recieved for packet id 6\n",
      "sent 6\n",
      "done 7\n",
      "Ack recieved for packet id 7\n",
      "sent 7\n",
      "done 8\n",
      "Ack recieved for packet id 8\n",
      "sent 8\n",
      "done 9\n",
      "Ack recieved for packet id 9\n",
      "sent 9\n"
     ]
    }
   ],
   "source": [
    "t = ThreadedServer(Myservice, port = 18850)\n",
    "t.start()"
   ]
  },
  {
   "cell_type": "code",
   "execution_count": null,
   "metadata": {},
   "outputs": [],
   "source": []
  },
  {
   "cell_type": "code",
   "execution_count": null,
   "metadata": {},
   "outputs": [],
   "source": []
  }
 ],
 "metadata": {
  "kernelspec": {
   "display_name": "py3.5.2",
   "language": "python",
   "name": "python3.5.2"
  },
  "language_info": {
   "codemirror_mode": {
    "name": "ipython",
    "version": 3
   },
   "file_extension": ".py",
   "mimetype": "text/x-python",
   "name": "python",
   "nbconvert_exporter": "python",
   "pygments_lexer": "ipython3",
   "version": "3.5.2"
  }
 },
 "nbformat": 4,
 "nbformat_minor": 2
}
