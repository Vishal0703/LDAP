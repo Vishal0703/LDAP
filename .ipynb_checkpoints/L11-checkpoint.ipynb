{
 "cells": [
  {
   "cell_type": "code",
   "execution_count": 39,
   "metadata": {},
   "outputs": [],
   "source": [
    "import rpyc\n",
    "import time\n",
    "from rpyc.utils.server import ThreadedServer\n",
    "from rpyc import async_\n",
    "\n",
    "class Myservice(rpyc.Service):\n",
    "    def __init__(self):\n",
    "        self.id = 11\n",
    "        \n",
    "    def on_connect(self, conn):\n",
    "        print(\"Connection established with \"+ str(conn))\n",
    "        \n",
    "    def on_disconnect(self,conn):\n",
    "        print(\"Have a nice day... goodbye\")\n",
    "        \n",
    "    def exposed_ack_rec(self):\n",
    "        print(\"Ack recieved\")\n",
    "        \n",
    "    def exposed_do_a_search(self, func):\n",
    "        self.func = func\n",
    "        for j in range(10):\n",
    "            l = [j]\n",
    "            for i in range(1000 + 10*j,1000 + 10*j + 10):\n",
    "                l.append(i)\n",
    "\n",
    "\n",
    "            time.sleep(1)\n",
    "            print(\"done \" + str(j))\n",
    "            self.func(l, self.id, ack_rec)\n",
    "            print(\"sent \" + str(j))\n",
    "        \n",
    "        \n",
    "        self.func(None, self.id, None, True)\n",
    "        \n",
    "#         l = []\n",
    "#         for i in range(10):\n",
    "#             l.append(i)\n",
    "            \n",
    "#         time.sleep(2)\n",
    "#         print(\"done 1\")\n",
    "#         func(l, self.id)\n",
    "#         print(\"sent 1\")\n",
    "        \n",
    "#         time.sleep(3)\n",
    "#         l = []\n",
    "#         for i in range(100,110):\n",
    "#             l.append(i)\n",
    "            \n",
    "#         print(\"done 2\")\n",
    "#         func(l, self.id)\n",
    "#         print(\"sent 2\")\n",
    "        return "
   ]
  },
  {
   "cell_type": "code",
   "execution_count": 40,
   "metadata": {},
   "outputs": [
    {
     "name": "stdout",
     "output_type": "stream",
     "text": [
      "Connection established with <rpyc.core.protocol.Connection 'conn52' object at 0x7f564c272748>\n",
      "done 0\n"
     ]
    },
    {
     "name": "stderr",
     "output_type": "stream",
     "text": [
      "keyboard interrupt!\n"
     ]
    },
    {
     "name": "stdout",
     "output_type": "stream",
     "text": [
      "\n",
      "Have a nice day... goodbye\n"
     ]
    }
   ],
   "source": [
    "t = ThreadedServer(Myservice, port = 18850)\n",
    "t.start()"
   ]
  },
  {
   "cell_type": "code",
   "execution_count": null,
   "metadata": {},
   "outputs": [],
   "source": []
  }
 ],
 "metadata": {
  "kernelspec": {
   "display_name": "py3.5.2",
   "language": "python",
   "name": "python3.5.2"
  },
  "language_info": {
   "codemirror_mode": {
    "name": "ipython",
    "version": 3
   },
   "file_extension": ".py",
   "mimetype": "text/x-python",
   "name": "python",
   "nbconvert_exporter": "python",
   "pygments_lexer": "ipython3",
   "version": "3.5.2"
  }
 },
 "nbformat": 4,
 "nbformat_minor": 2
}
