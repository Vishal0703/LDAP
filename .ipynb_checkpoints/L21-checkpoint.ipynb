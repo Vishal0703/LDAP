{
 "cells": [
  {
   "cell_type": "code",
   "execution_count": 106,
   "metadata": {},
   "outputs": [],
   "source": [
    "import rpyc\n",
    "from rpyc.utils.server import Server, ThreadedServer\n",
    "from rpyc import async_\n",
    "from threading import Thread, Lock, RLock\n",
    "import time\n",
    "import copy\n",
    "\n",
    "\n",
    "mt = RLock()\n",
    "\n",
    "class Myservice(rpyc.Service):\n",
    "    def __init__(self):\n",
    "        self.ls_child = ls_child\n",
    "        self.child_conn = []\n",
    "        self.bgthreads = []\n",
    "        self.func = None\n",
    "        self.id_list = []\n",
    "        self.async_objs = []\n",
    "        self.l = []\n",
    "        self.shadow = None\n",
    "        self.gran = 5\n",
    "        self.lc = 0\n",
    "        self.id = 21\n",
    "        self.counter = 0\n",
    "        self.finishes = {}\n",
    "        self.pkt_details = {}\n",
    "        self.shadow = shadow\n",
    "        \n",
    "        for ch in self.ls_child:\n",
    "            c = rpyc.connect(ch[0], ch[1])\n",
    "            self.child_conn.append(c)\n",
    "            self.bgthreads.append(rpyc.BgServingThread(c))\n",
    "#             self.on_connect(c)\n",
    "\n",
    "        self.shadow_conn = rpyc.connect(self.shadow[0], self.shadow[1])\n",
    "        self.shadow_bg = rpyc.BgServingThread(self.shadow_conn)\n",
    "            \n",
    "    def on_finish(self):\n",
    "\n",
    "        if(len(self.finishes) == (len(self.child_conn) + 1)):\n",
    "            print(\"enter\")\n",
    "            print(self.lc)\n",
    "            while(len(self.l) > self.lc):\n",
    "                send = self.gran\n",
    "                if (len(self.l) - self.lc < self.gran):\n",
    "                    send = len(self.l) - self.lc\n",
    "                self.func(self.counter, self.l[self.lc:self.lc+send], self.id, self.ack_func)\n",
    "                self.counter += 1\n",
    "                print(\"on_finish waala {}\".format(self.counter))\n",
    "                self.lc += send\n",
    "\n",
    "    def ack_func(self, ID):\n",
    "        print(\"Ack recieved for packet id {}\".format(ID))\n",
    "        \n",
    "    \n",
    "    \n",
    "    def cback(self, pkt_id, value, ID, ack_func, fin = False):\n",
    "        global mt\n",
    "#         print(\"Before acquiring by \" + str(ID))\n",
    "        #print(mt.locked())\n",
    "        mt.acquire()\n",
    "        try:\n",
    "            if(fin == True):\n",
    "                print(\"fin called by{}\".format(ID))\n",
    "                self.finishes[str(ID)] = True\n",
    "                self.on_finish()\n",
    "            else:                \n",
    "# #                 print(\"in cback \" + str(ID))\n",
    "                idl = []\n",
    "                \n",
    "                for _ in range(len(value)):\n",
    "                    idl.append(ID)\n",
    "\n",
    "                self.id_list.extend(idl)\n",
    "        #         print(value)\n",
    "                #print(mt.locked())\n",
    "                \n",
    "                print(len(value))\n",
    "                self.l.extend(value)\n",
    "                print(pkt_id)\n",
    "                if (ID != self.id):\n",
    "                    ack_func(pkt_id)\n",
    "#                 print(\"Value written\")\n",
    "#                 print (len(self.l))\n",
    "\n",
    "                while(len(self.l) - self.lc >= self.gran):\n",
    "    #                 print('andar {}'.format(ID))\n",
    "                    self.func(self.counter, self.l[self.lc:self.lc+self.gran], self.id, self.ack_func)\n",
    "                    self.counter += 1\n",
    "                    self.pkt_details[]\n",
    "                    print(\"cback waala {}\".format(self.counter))\n",
    "                    self.lc += self.gran\n",
    "                    \n",
    "                print(len(self.l) - self.lc)\n",
    "#             print('in cback print {}'.format(ID))\n",
    "#             print(self.l)\n",
    "#             print(\"pople\")\n",
    "            \n",
    "        except Exception as e:\n",
    "            print(e)\n",
    "        finally:\n",
    "            mt.release()\n",
    "#             print(\"mutex released\")\n",
    "        \n",
    "        return\n",
    "    \n",
    "    def on_connect(self, conn):\n",
    "        print(\"Connection established with \"+ str(conn))\n",
    "        \n",
    "    def on_disconnect(self,conn):\n",
    "        print(\"Have a nice day... goodbye\")\n",
    "        \n",
    "    def exposed_printvals(self):\n",
    "        print(self.l)\n",
    "        print(self.id_list)\n",
    "    \n",
    "    def local_search(self):\n",
    "        fn = self.cback\n",
    "        for j in range(10):\n",
    "            l = []\n",
    "            for i in range(200 + 10*j,200 + 10*j + 10):\n",
    "                l.append(i)\n",
    "\n",
    "\n",
    "            time.sleep(1)\n",
    "            print(\"done \" + str(j))\n",
    "            fn(j, l, self.id, self.ack_func)\n",
    "            print(\"sent \" + str(j))\n",
    "        \n",
    "        fn(None, None, self.id, None, True)   \n",
    "            \n",
    "    def exposed_do_a_search(self, func):\n",
    "        global mt\n",
    "        \n",
    "        self.func = func\n",
    "#         for child in self.child_conn:\n",
    "#             ID = child.root.get_id()\n",
    "#             self.mapper[str(ID)] = child\n",
    "            \n",
    "        for child in self.child_conn:\n",
    "            asearch = async_(child.root.do_a_search)\n",
    "            aobj = asearch(self.cback)\n",
    "            self.async_objs.append(aobj)\n",
    "\n",
    "        \n",
    "        self.local_search()\n",
    "        \n",
    "#         while True:\n",
    "#             time.sleep(2)\n",
    "#             mt.acquire()\n",
    "#             try:\n",
    "#                 flag = 1\n",
    "#                 for _, value in self.finishes.items():\n",
    "#                     if(value == False):\n",
    "#                         flag = 0\n",
    "#                         break\n",
    "#                 if(flag == 1):\n",
    "# #                     while(len(self.l) > self.lc):\n",
    "# #                         send = self.gran\n",
    "# #                         if (len(self.l) - self.lc < self.gran):\n",
    "#                         send = len(self.l) - self.lc\n",
    "#                         self.func(self.l[self.lc:self.lc+send], self.id_list[self.lc:self.lc+send])\n",
    "#                         self.counter += 1\n",
    "#                         print(self.counter)\n",
    "#                         self.lc += send\n",
    "                        \n",
    "#             finally:\n",
    "#                 mt.release()\n",
    "        \n",
    "#         while True:\n",
    "#             time.sleep(1)\n",
    "# #             print(\"lolol\")\n",
    "#             print(\"Before acquiring - while\")\n",
    "#             #print(mt.locked())\n",
    "#             mt.acquire()\n",
    "#             try:\n",
    "#                 print(\"in while\")\n",
    "#                 #print(mt.locked())\n",
    "#                 if(len(self.l)>=2 and times <=10):\n",
    "#                     print(\"1\")\n",
    "#                     times += 1\n",
    "#     #                 id1 = copy.deepcopy(self.id_list)\n",
    "#     #                 print(id1)\n",
    "#                     print(\"Sending pac\")\n",
    "# #                     print(\"in while print \" +  str(times) + \" \" + str(self.l) )\n",
    "#     #                 l1 = copy.deepcopy(self.l)\n",
    "#                     print(\"blah\")\n",
    "#                     func(self.l[lc:lc+2], self.id_list[lc:lc+2])\n",
    "#                     lc += 2\n",
    "#             except Exception as e:\n",
    "#                 print(e)\n",
    "#             finally:\n",
    "#                 mt.release()\n",
    "#             if(times > 10):\n",
    "#                 break\n",
    "#             print(\"while mutex released\")    "
   ]
  },
  {
   "cell_type": "code",
   "execution_count": 107,
   "metadata": {},
   "outputs": [],
   "source": [
    "ls_child = []\n",
    "ls_child.append((\"localhost\", 18850, 11))\n",
    "ls_child.append((\"localhost\", 18851, 12))"
   ]
  },
  {
   "cell_type": "code",
   "execution_count": 108,
   "metadata": {},
   "outputs": [
    {
     "name": "stderr",
     "output_type": "stream",
     "text": [
      "keyboard interrupt!\n"
     ]
    },
    {
     "name": "stdout",
     "output_type": "stream",
     "text": [
      "\n"
     ]
    }
   ],
   "source": [
    "t = ThreadedServer(Myservice, port = 18852)\n",
    "t.start()"
   ]
  },
  {
   "cell_type": "code",
   "execution_count": null,
   "metadata": {},
   "outputs": [],
   "source": []
  },
  {
   "cell_type": "code",
   "execution_count": 7,
   "metadata": {},
   "outputs": [],
   "source": [
    "d = {}\n",
    "d['abc'] = 1\n",
    "d['cde'] = 2"
   ]
  },
  {
   "cell_type": "code",
   "execution_count": 10,
   "metadata": {},
   "outputs": [
    {
     "name": "stdout",
     "output_type": "stream",
     "text": [
      "cde 2\n",
      "abc 1\n"
     ]
    }
   ],
   "source": [
    "for key,value in d.items():\n",
    "    print(key, value)"
   ]
  },
  {
   "cell_type": "code",
   "execution_count": 14,
   "metadata": {},
   "outputs": [],
   "source": [
    "def f(kl):\n",
    "    kl[0] = 1\n",
    "    "
   ]
  },
  {
   "cell_type": "code",
   "execution_count": 22,
   "metadata": {},
   "outputs": [],
   "source": [
    "l = [0,2,3]"
   ]
  },
  {
   "cell_type": "code",
   "execution_count": 23,
   "metadata": {},
   "outputs": [],
   "source": [
    "f(l[0:1])"
   ]
  },
  {
   "cell_type": "code",
   "execution_count": 24,
   "metadata": {},
   "outputs": [
    {
     "data": {
      "text/plain": [
       "[0, 2, 3]"
      ]
     },
     "execution_count": 24,
     "metadata": {},
     "output_type": "execute_result"
    }
   ],
   "source": [
    "l"
   ]
  },
  {
   "cell_type": "code",
   "execution_count": 110,
   "metadata": {},
   "outputs": [],
   "source": [
    "s = 3\n",
    "if (s != 3):\n",
    "    print(s)"
   ]
  },
  {
   "cell_type": "code",
   "execution_count": null,
   "metadata": {},
   "outputs": [],
   "source": []
  }
 ],
 "metadata": {
  "kernelspec": {
   "display_name": "py3.5.2",
   "language": "python",
   "name": "python3.5.2"
  },
  "language_info": {
   "codemirror_mode": {
    "name": "ipython",
    "version": 3
   },
   "file_extension": ".py",
   "mimetype": "text/x-python",
   "name": "python",
   "nbconvert_exporter": "python",
   "pygments_lexer": "ipython3",
   "version": "3.5.2"
  }
 },
 "nbformat": 4,
 "nbformat_minor": 2
}
