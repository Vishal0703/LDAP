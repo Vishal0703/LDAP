{
 "cells": [
  {
   "cell_type": "code",
   "execution_count": 27,
   "metadata": {},
   "outputs": [],
   "source": [
    "import rpyc\n",
    "import time\n",
    "from rpyc.utils.server import ThreadedServer\n",
    "from rpyc import async_\n",
    "\n",
    "class Myservice(rpyc.Service):\n",
    "    \n",
    "    def __init__(self):\n",
    "        self.id = 12\n",
    "        self.func = None\n",
    "        \n",
    "    def on_connect(self, conn):\n",
    "        print(\"Connection established with \"+ str(conn))\n",
    "        \n",
    "    def on_disconnect(self,conn):\n",
    "        print(\"Have a nice day... goodbye\")\n",
    "        \n",
    "    def exposed_do_a_search(self, func):\n",
    "        self.func = func\n",
    "        \n",
    "        for j in range(10):\n",
    "            l = []\n",
    "            for i in range(10*j, 10*j + 10):\n",
    "                l.append(i)\n",
    "\n",
    "\n",
    "            time.sleep(1)\n",
    "            print(\"done \" + str(j))\n",
    "            self.func(l, self.id)\n",
    "            print(\"sent \" + str(j))\n",
    "            \n",
    "        self.func(None, self.id, True)\n",
    "        \n",
    "#         time.sleep(3)\n",
    "#         k = []\n",
    "#         for i in range(50,60):\n",
    "#             k.append(i)\n",
    "            \n",
    "#         print(\"done 2\")\n",
    "#         self.func(k, self.id)\n",
    "#         print(\"sent 2\")\n",
    "        \n",
    "#         time.sleep(3)\n",
    "#         k = []\n",
    "#         for i in range(50,60):\n",
    "#             k.append(i)\n",
    "            \n",
    "#         print(\"done 2\")\n",
    "#         self.func(k, self.id)\n",
    "#         print(\"sent 2\")\n",
    "        \n",
    "        return "
   ]
  },
  {
   "cell_type": "code",
   "execution_count": null,
   "metadata": {},
   "outputs": [
    {
     "name": "stdout",
     "output_type": "stream",
     "text": [
      "Connection established with <rpyc.core.protocol.Connection 'conn44' object at 0x7f8a204cc978>\n",
      "done 0\n",
      "sent 0\n"
     ]
    }
   ],
   "source": [
    "t = ThreadedServer(Myservice, port = 18851)\n",
    "t.start()"
   ]
  },
  {
   "cell_type": "code",
   "execution_count": null,
   "metadata": {},
   "outputs": [],
   "source": []
  }
 ],
 "metadata": {
  "kernelspec": {
   "display_name": "py3.5.2",
   "language": "python",
   "name": "python3.5.2"
  },
  "language_info": {
   "codemirror_mode": {
    "name": "ipython",
    "version": 3
   },
   "file_extension": ".py",
   "mimetype": "text/x-python",
   "name": "python",
   "nbconvert_exporter": "python",
   "pygments_lexer": "ipython3",
   "version": "3.5.2"
  }
 },
 "nbformat": 4,
 "nbformat_minor": 2
}
